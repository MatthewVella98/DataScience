{
 "cells": [
  {
   "cell_type": "markdown",
   "metadata": {},
   "source": [
    "# Football Predictor using Poisson Distribution "
   ]
  },
  {
   "cell_type": "code",
   "execution_count": 7,
   "metadata": {},
   "outputs": [],
   "source": [
    "# import libraries\n",
    "\n",
    "import pandas as pd \n",
    "import matplotlib as plt\n",
    "import numpy as np \n",
    "import seaborn \n",
    "\n",
    "from scipy.stats import poisson,skellam\n",
    "import statsmodels.api as sm \n",
    "import statsmodels.formula.api as smf"
   ]
  },
  {
   "cell_type": "code",
   "execution_count": 5,
   "metadata": {},
   "outputs": [
    {
     "data": {
      "text/html": [
       "<div>\n",
       "<style scoped>\n",
       "    .dataframe tbody tr th:only-of-type {\n",
       "        vertical-align: middle;\n",
       "    }\n",
       "\n",
       "    .dataframe tbody tr th {\n",
       "        vertical-align: top;\n",
       "    }\n",
       "\n",
       "    .dataframe thead th {\n",
       "        text-align: right;\n",
       "    }\n",
       "</style>\n",
       "<table border=\"1\" class=\"dataframe\">\n",
       "  <thead>\n",
       "    <tr style=\"text-align: right;\">\n",
       "      <th></th>\n",
       "      <th>HomeTeam</th>\n",
       "      <th>AwayTeam</th>\n",
       "      <th>HomeGoals</th>\n",
       "      <th>AwayGoals</th>\n",
       "    </tr>\n",
       "  </thead>\n",
       "  <tbody>\n",
       "    <tr>\n",
       "      <td>0</td>\n",
       "      <td>Parma</td>\n",
       "      <td>Juventus</td>\n",
       "      <td>0</td>\n",
       "      <td>1</td>\n",
       "    </tr>\n",
       "    <tr>\n",
       "      <td>1</td>\n",
       "      <td>Fiorentina</td>\n",
       "      <td>Napoli</td>\n",
       "      <td>3</td>\n",
       "      <td>4</td>\n",
       "    </tr>\n",
       "    <tr>\n",
       "      <td>2</td>\n",
       "      <td>Udinese</td>\n",
       "      <td>Milan</td>\n",
       "      <td>1</td>\n",
       "      <td>0</td>\n",
       "    </tr>\n",
       "    <tr>\n",
       "      <td>3</td>\n",
       "      <td>Cagliari</td>\n",
       "      <td>Brescia</td>\n",
       "      <td>0</td>\n",
       "      <td>1</td>\n",
       "    </tr>\n",
       "    <tr>\n",
       "      <td>4</td>\n",
       "      <td>Roma</td>\n",
       "      <td>Genoa</td>\n",
       "      <td>3</td>\n",
       "      <td>3</td>\n",
       "    </tr>\n",
       "  </tbody>\n",
       "</table>\n",
       "</div>"
      ],
      "text/plain": [
       "     HomeTeam  AwayTeam  HomeGoals  AwayGoals\n",
       "0       Parma  Juventus          0          1\n",
       "1  Fiorentina    Napoli          3          4\n",
       "2     Udinese     Milan          1          0\n",
       "3    Cagliari   Brescia          0          1\n",
       "4        Roma     Genoa          3          3"
      ]
     },
     "execution_count": 5,
     "metadata": {},
     "output_type": "execute_result"
    }
   ],
   "source": [
    "dataset = pd.read_csv('Dataset.csv')\n",
    "dataset = dataset[['HomeTeam', 'AwayTeam', 'FTHG', 'FTAG']]\n",
    "dataset = dataset.rename(columns={'FTHG': 'HomeGoals', 'FTAG': 'AwayGoals'})\n",
    "dataset.head()"
   ]
  },
  {
   "cell_type": "code",
   "execution_count": 10,
   "metadata": {},
   "outputs": [
    {
     "data": {
      "text/plain": [
       "HomeGoals    1.525641\n",
       "AwayGoals    1.333333\n",
       "dtype: float64"
      ]
     },
     "execution_count": 10,
     "metadata": {},
     "output_type": "execute_result"
    }
   ],
   "source": [
    "dataset = dataset[:-10]   # Our task is to model the last round of fixtures \n",
    "dataset.mean()     # As seen below, the home team scores more goals on average. "
   ]
  },
  {
   "cell_type": "code",
   "execution_count": 12,
   "metadata": {},
   "outputs": [
    {
     "data": {
      "text/html": [
       "<table class=\"simpletable\">\n",
       "<caption>Generalized Linear Model Regression Results</caption>\n",
       "<tr>\n",
       "  <th>Dep. Variable:</th>         <td>goals</td>      <th>  No. Observations:  </th>  <td>   156</td> \n",
       "</tr>\n",
       "<tr>\n",
       "  <th>Model:</th>                  <td>GLM</td>       <th>  Df Residuals:      </th>  <td>   116</td> \n",
       "</tr>\n",
       "<tr>\n",
       "  <th>Model Family:</th>         <td>Poisson</td>     <th>  Df Model:          </th>  <td>    39</td> \n",
       "</tr>\n",
       "<tr>\n",
       "  <th>Link Function:</th>          <td>log</td>       <th>  Scale:             </th> <td>  1.0000</td>\n",
       "</tr>\n",
       "<tr>\n",
       "  <th>Method:</th>                <td>IRLS</td>       <th>  Log-Likelihood:    </th> <td> -208.69</td>\n",
       "</tr>\n",
       "<tr>\n",
       "  <th>Date:</th>            <td>Thu, 31 Oct 2019</td> <th>  Deviance:          </th> <td>  131.15</td>\n",
       "</tr>\n",
       "<tr>\n",
       "  <th>Time:</th>                <td>20:39:59</td>     <th>  Pearson chi2:      </th>  <td>  106.</td> \n",
       "</tr>\n",
       "<tr>\n",
       "  <th>No. Iterations:</th>          <td>5</td>        <th>                     </th>     <td> </td>   \n",
       "</tr>\n",
       "<tr>\n",
       "  <th>Covariance Type:</th>     <td>nonrobust</td>    <th>                     </th>     <td> </td>   \n",
       "</tr>\n",
       "</table>\n",
       "<table class=\"simpletable\">\n",
       "<tr>\n",
       "             <td></td>               <th>coef</th>     <th>std err</th>      <th>z</th>      <th>P>|z|</th>  <th>[0.025</th>    <th>0.975]</th>  \n",
       "</tr>\n",
       "<tr>\n",
       "  <th>Intercept</th>              <td>    0.8987</td> <td>    0.390</td> <td>    2.302</td> <td> 0.021</td> <td>    0.134</td> <td>    1.664</td>\n",
       "</tr>\n",
       "<tr>\n",
       "  <th>team[T.Bologna]</th>        <td>   -0.4618</td> <td>    0.402</td> <td>   -1.150</td> <td> 0.250</td> <td>   -1.249</td> <td>    0.325</td>\n",
       "</tr>\n",
       "<tr>\n",
       "  <th>team[T.Brescia]</th>        <td>   -0.4381</td> <td>    0.479</td> <td>   -0.915</td> <td> 0.360</td> <td>   -1.376</td> <td>    0.500</td>\n",
       "</tr>\n",
       "<tr>\n",
       "  <th>team[T.Cagliari]</th>       <td>   -0.4223</td> <td>    0.389</td> <td>   -1.086</td> <td> 0.277</td> <td>   -1.185</td> <td>    0.340</td>\n",
       "</tr>\n",
       "<tr>\n",
       "  <th>team[T.Fiorentina]</th>     <td>   -0.2942</td> <td>    0.393</td> <td>   -0.748</td> <td> 0.455</td> <td>   -1.065</td> <td>    0.477</td>\n",
       "</tr>\n",
       "<tr>\n",
       "  <th>team[T.Genoa]</th>          <td>   -0.6826</td> <td>    0.423</td> <td>   -1.613</td> <td> 0.107</td> <td>   -1.512</td> <td>    0.147</td>\n",
       "</tr>\n",
       "<tr>\n",
       "  <th>team[T.Inter]</th>          <td>    0.0130</td> <td>    0.344</td> <td>    0.038</td> <td> 0.970</td> <td>   -0.660</td> <td>    0.686</td>\n",
       "</tr>\n",
       "<tr>\n",
       "  <th>team[T.Juventus]</th>       <td>   -0.1421</td> <td>    0.371</td> <td>   -0.383</td> <td> 0.702</td> <td>   -0.870</td> <td>    0.586</td>\n",
       "</tr>\n",
       "<tr>\n",
       "  <th>team[T.Lazio]</th>          <td>   -0.2237</td> <td>    0.358</td> <td>   -0.625</td> <td> 0.532</td> <td>   -0.926</td> <td>    0.478</td>\n",
       "</tr>\n",
       "<tr>\n",
       "  <th>team[T.Lecce]</th>          <td>   -0.6075</td> <td>    0.422</td> <td>   -1.439</td> <td> 0.150</td> <td>   -1.435</td> <td>    0.220</td>\n",
       "</tr>\n",
       "<tr>\n",
       "  <th>team[T.Milan]</th>          <td>   -0.8118</td> <td>    0.428</td> <td>   -1.895</td> <td> 0.058</td> <td>   -1.651</td> <td>    0.028</td>\n",
       "</tr>\n",
       "<tr>\n",
       "  <th>team[T.Napoli]</th>         <td>    0.0039</td> <td>    0.349</td> <td>    0.011</td> <td> 0.991</td> <td>   -0.680</td> <td>    0.688</td>\n",
       "</tr>\n",
       "<tr>\n",
       "  <th>team[T.Parma]</th>          <td>   -0.3421</td> <td>    0.367</td> <td>   -0.933</td> <td> 0.351</td> <td>   -1.061</td> <td>    0.377</td>\n",
       "</tr>\n",
       "<tr>\n",
       "  <th>team[T.Roma]</th>           <td>   -0.6013</td> <td>    0.376</td> <td>   -1.600</td> <td> 0.109</td> <td>   -1.338</td> <td>    0.135</td>\n",
       "</tr>\n",
       "<tr>\n",
       "  <th>team[T.Sampdoria]</th>      <td>   -1.4540</td> <td>    0.553</td> <td>   -2.627</td> <td> 0.009</td> <td>   -2.539</td> <td>   -0.369</td>\n",
       "</tr>\n",
       "<tr>\n",
       "  <th>team[T.Sassuolo]</th>       <td>   -0.1441</td> <td>    0.374</td> <td>   -0.385</td> <td> 0.700</td> <td>   -0.877</td> <td>    0.589</td>\n",
       "</tr>\n",
       "<tr>\n",
       "  <th>team[T.Spal]</th>           <td>   -1.1643</td> <td>    0.478</td> <td>   -2.435</td> <td> 0.015</td> <td>   -2.101</td> <td>   -0.227</td>\n",
       "</tr>\n",
       "<tr>\n",
       "  <th>team[T.Torino]</th>         <td>   -0.7391</td> <td>    0.406</td> <td>   -1.823</td> <td> 0.068</td> <td>   -1.534</td> <td>    0.056</td>\n",
       "</tr>\n",
       "<tr>\n",
       "  <th>team[T.Udinese]</th>        <td>   -1.4951</td> <td>    0.567</td> <td>   -2.636</td> <td> 0.008</td> <td>   -2.607</td> <td>   -0.383</td>\n",
       "</tr>\n",
       "<tr>\n",
       "  <th>team[T.Verona]</th>         <td>   -1.0514</td> <td>    0.489</td> <td>   -2.151</td> <td> 0.031</td> <td>   -2.009</td> <td>   -0.094</td>\n",
       "</tr>\n",
       "<tr>\n",
       "  <th>opponent[T.Bologna]</th>    <td>   -0.0428</td> <td>    0.431</td> <td>   -0.099</td> <td> 0.921</td> <td>   -0.888</td> <td>    0.802</td>\n",
       "</tr>\n",
       "<tr>\n",
       "  <th>opponent[T.Brescia]</th>    <td>   -0.1377</td> <td>    0.472</td> <td>   -0.292</td> <td> 0.771</td> <td>   -1.063</td> <td>    0.788</td>\n",
       "</tr>\n",
       "<tr>\n",
       "  <th>opponent[T.Cagliari]</th>   <td>   -0.6496</td> <td>    0.493</td> <td>   -1.318</td> <td> 0.187</td> <td>   -1.615</td> <td>    0.316</td>\n",
       "</tr>\n",
       "<tr>\n",
       "  <th>opponent[T.Fiorentina]</th> <td>   -0.1214</td> <td>    0.452</td> <td>   -0.268</td> <td> 0.788</td> <td>   -1.008</td> <td>    0.765</td>\n",
       "</tr>\n",
       "<tr>\n",
       "  <th>opponent[T.Genoa]</th>      <td>    0.3094</td> <td>    0.378</td> <td>    0.818</td> <td> 0.413</td> <td>   -0.432</td> <td>    1.051</td>\n",
       "</tr>\n",
       "<tr>\n",
       "  <th>opponent[T.Inter]</th>      <td>   -0.5609</td> <td>    0.486</td> <td>   -1.154</td> <td> 0.249</td> <td>   -1.514</td> <td>    0.392</td>\n",
       "</tr>\n",
       "<tr>\n",
       "  <th>opponent[T.Juventus]</th>   <td>   -0.7306</td> <td>    0.494</td> <td>   -1.480</td> <td> 0.139</td> <td>   -1.698</td> <td>    0.237</td>\n",
       "</tr>\n",
       "<tr>\n",
       "  <th>opponent[T.Lazio]</th>      <td>   -0.3710</td> <td>    0.458</td> <td>   -0.809</td> <td> 0.418</td> <td>   -1.269</td> <td>    0.527</td>\n",
       "</tr>\n",
       "<tr>\n",
       "  <th>opponent[T.Lecce]</th>      <td>    0.1980</td> <td>    0.398</td> <td>    0.498</td> <td> 0.619</td> <td>   -0.582</td> <td>    0.978</td>\n",
       "</tr>\n",
       "<tr>\n",
       "  <th>opponent[T.Milan]</th>      <td>   -0.0607</td> <td>    0.432</td> <td>   -0.141</td> <td> 0.888</td> <td>   -0.907</td> <td>    0.785</td>\n",
       "</tr>\n",
       "<tr>\n",
       "  <th>opponent[T.Napoli]</th>     <td>   -0.1952</td> <td>    0.443</td> <td>   -0.440</td> <td> 0.660</td> <td>   -1.064</td> <td>    0.673</td>\n",
       "</tr>\n",
       "<tr>\n",
       "  <th>opponent[T.Parma]</th>      <td>   -0.0952</td> <td>    0.426</td> <td>   -0.224</td> <td> 0.823</td> <td>   -0.929</td> <td>    0.739</td>\n",
       "</tr>\n",
       "<tr>\n",
       "  <th>opponent[T.Roma]</th>       <td>   -0.3179</td> <td>    0.435</td> <td>   -0.731</td> <td> 0.465</td> <td>   -1.171</td> <td>    0.535</td>\n",
       "</tr>\n",
       "<tr>\n",
       "  <th>opponent[T.Sampdoria]</th>  <td>    0.0356</td> <td>    0.386</td> <td>    0.092</td> <td> 0.927</td> <td>   -0.721</td> <td>    0.792</td>\n",
       "</tr>\n",
       "<tr>\n",
       "  <th>opponent[T.Sassuolo]</th>   <td>    0.3527</td> <td>    0.404</td> <td>    0.873</td> <td> 0.383</td> <td>   -0.439</td> <td>    1.145</td>\n",
       "</tr>\n",
       "<tr>\n",
       "  <th>opponent[T.Spal]</th>       <td>   -0.0725</td> <td>    0.399</td> <td>   -0.182</td> <td> 0.856</td> <td>   -0.854</td> <td>    0.709</td>\n",
       "</tr>\n",
       "<tr>\n",
       "  <th>opponent[T.Torino]</th>     <td>   -0.1835</td> <td>    0.434</td> <td>   -0.422</td> <td> 0.673</td> <td>   -1.035</td> <td>    0.668</td>\n",
       "</tr>\n",
       "<tr>\n",
       "  <th>opponent[T.Udinese]</th>    <td>   -0.7856</td> <td>    0.517</td> <td>   -1.520</td> <td> 0.129</td> <td>   -1.799</td> <td>    0.228</td>\n",
       "</tr>\n",
       "<tr>\n",
       "  <th>opponent[T.Verona]</th>     <td>   -0.5829</td> <td>    0.498</td> <td>   -1.170</td> <td> 0.242</td> <td>   -1.559</td> <td>    0.393</td>\n",
       "</tr>\n",
       "<tr>\n",
       "  <th>home</th>                   <td>    0.1510</td> <td>    0.141</td> <td>    1.074</td> <td> 0.283</td> <td>   -0.125</td> <td>    0.427</td>\n",
       "</tr>\n",
       "</table>"
      ],
      "text/plain": [
       "<class 'statsmodels.iolib.summary.Summary'>\n",
       "\"\"\"\n",
       "                 Generalized Linear Model Regression Results                  \n",
       "==============================================================================\n",
       "Dep. Variable:                  goals   No. Observations:                  156\n",
       "Model:                            GLM   Df Residuals:                      116\n",
       "Model Family:                 Poisson   Df Model:                           39\n",
       "Link Function:                    log   Scale:                          1.0000\n",
       "Method:                          IRLS   Log-Likelihood:                -208.69\n",
       "Date:                Thu, 31 Oct 2019   Deviance:                       131.15\n",
       "Time:                        20:39:59   Pearson chi2:                     106.\n",
       "No. Iterations:                     5                                         \n",
       "Covariance Type:            nonrobust                                         \n",
       "==========================================================================================\n",
       "                             coef    std err          z      P>|z|      [0.025      0.975]\n",
       "------------------------------------------------------------------------------------------\n",
       "Intercept                  0.8987      0.390      2.302      0.021       0.134       1.664\n",
       "team[T.Bologna]           -0.4618      0.402     -1.150      0.250      -1.249       0.325\n",
       "team[T.Brescia]           -0.4381      0.479     -0.915      0.360      -1.376       0.500\n",
       "team[T.Cagliari]          -0.4223      0.389     -1.086      0.277      -1.185       0.340\n",
       "team[T.Fiorentina]        -0.2942      0.393     -0.748      0.455      -1.065       0.477\n",
       "team[T.Genoa]             -0.6826      0.423     -1.613      0.107      -1.512       0.147\n",
       "team[T.Inter]              0.0130      0.344      0.038      0.970      -0.660       0.686\n",
       "team[T.Juventus]          -0.1421      0.371     -0.383      0.702      -0.870       0.586\n",
       "team[T.Lazio]             -0.2237      0.358     -0.625      0.532      -0.926       0.478\n",
       "team[T.Lecce]             -0.6075      0.422     -1.439      0.150      -1.435       0.220\n",
       "team[T.Milan]             -0.8118      0.428     -1.895      0.058      -1.651       0.028\n",
       "team[T.Napoli]             0.0039      0.349      0.011      0.991      -0.680       0.688\n",
       "team[T.Parma]             -0.3421      0.367     -0.933      0.351      -1.061       0.377\n",
       "team[T.Roma]              -0.6013      0.376     -1.600      0.109      -1.338       0.135\n",
       "team[T.Sampdoria]         -1.4540      0.553     -2.627      0.009      -2.539      -0.369\n",
       "team[T.Sassuolo]          -0.1441      0.374     -0.385      0.700      -0.877       0.589\n",
       "team[T.Spal]              -1.1643      0.478     -2.435      0.015      -2.101      -0.227\n",
       "team[T.Torino]            -0.7391      0.406     -1.823      0.068      -1.534       0.056\n",
       "team[T.Udinese]           -1.4951      0.567     -2.636      0.008      -2.607      -0.383\n",
       "team[T.Verona]            -1.0514      0.489     -2.151      0.031      -2.009      -0.094\n",
       "opponent[T.Bologna]       -0.0428      0.431     -0.099      0.921      -0.888       0.802\n",
       "opponent[T.Brescia]       -0.1377      0.472     -0.292      0.771      -1.063       0.788\n",
       "opponent[T.Cagliari]      -0.6496      0.493     -1.318      0.187      -1.615       0.316\n",
       "opponent[T.Fiorentina]    -0.1214      0.452     -0.268      0.788      -1.008       0.765\n",
       "opponent[T.Genoa]          0.3094      0.378      0.818      0.413      -0.432       1.051\n",
       "opponent[T.Inter]         -0.5609      0.486     -1.154      0.249      -1.514       0.392\n",
       "opponent[T.Juventus]      -0.7306      0.494     -1.480      0.139      -1.698       0.237\n",
       "opponent[T.Lazio]         -0.3710      0.458     -0.809      0.418      -1.269       0.527\n",
       "opponent[T.Lecce]          0.1980      0.398      0.498      0.619      -0.582       0.978\n",
       "opponent[T.Milan]         -0.0607      0.432     -0.141      0.888      -0.907       0.785\n",
       "opponent[T.Napoli]        -0.1952      0.443     -0.440      0.660      -1.064       0.673\n",
       "opponent[T.Parma]         -0.0952      0.426     -0.224      0.823      -0.929       0.739\n",
       "opponent[T.Roma]          -0.3179      0.435     -0.731      0.465      -1.171       0.535\n",
       "opponent[T.Sampdoria]      0.0356      0.386      0.092      0.927      -0.721       0.792\n",
       "opponent[T.Sassuolo]       0.3527      0.404      0.873      0.383      -0.439       1.145\n",
       "opponent[T.Spal]          -0.0725      0.399     -0.182      0.856      -0.854       0.709\n",
       "opponent[T.Torino]        -0.1835      0.434     -0.422      0.673      -1.035       0.668\n",
       "opponent[T.Udinese]       -0.7856      0.517     -1.520      0.129      -1.799       0.228\n",
       "opponent[T.Verona]        -0.5829      0.498     -1.170      0.242      -1.559       0.393\n",
       "home                       0.1510      0.141      1.074      0.283      -0.125       0.427\n",
       "==========================================================================================\n",
       "\"\"\""
      ]
     },
     "execution_count": 12,
     "metadata": {},
     "output_type": "execute_result"
    }
   ],
   "source": [
    "# The number of goals scored by each team can be approximated by a \n",
    "# Poisson Distribution\n",
    "\n",
    "import statsmodels.api as sm \n",
    "import statsmodels.formula.api as smf \n",
    "\n",
    "goal_model_data = pd.concat([dataset[['HomeTeam','AwayTeam','HomeGoals']].assign(home=1).rename(\n",
    "            columns={'HomeTeam':'team', 'AwayTeam':'opponent','HomeGoals':'goals'}),\n",
    "           dataset[['AwayTeam','HomeTeam','AwayGoals']].assign(home=0).rename(\n",
    "            columns={'AwayTeam':'team', 'HomeTeam':'opponent','AwayGoals':'goals'})])\n",
    "\n",
    "poisson_model = smf.glm(formula=\"goals ~ home + team + opponent\", data=goal_model_data, \n",
    "                        family=sm.families.Poisson()).fit()\n",
    "poisson_model.summary()"
   ]
  },
  {
   "cell_type": "markdown",
   "metadata": {},
   "source": [
    "##  Predicting the Seria A Games "
   ]
  },
  {
   "cell_type": "markdown",
   "metadata": {},
   "source": [
    "### Juventus VS Bologna\n"
   ]
  },
  {
   "cell_type": "code",
   "execution_count": 17,
   "metadata": {},
   "outputs": [
    {
     "data": {
      "text/plain": [
       "1    2.374495\n",
       "dtype: float64"
      ]
     },
     "execution_count": 17,
     "metadata": {},
     "output_type": "execute_result"
    }
   ],
   "source": [
    "poisson_model.predict(pd.DataFrame(data={'team': 'Juventus', 'opponent': 'Bologna',\n",
    "                                       'home':1},index=[1]))"
   ]
  },
  {
   "cell_type": "code",
   "execution_count": 18,
   "metadata": {},
   "outputs": [
    {
     "data": {
      "text/plain": [
       "1    0.74549\n",
       "dtype: float64"
      ]
     },
     "execution_count": 18,
     "metadata": {},
     "output_type": "execute_result"
    }
   ],
   "source": [
    "poisson_model.predict(pd.DataFrame(data={'team': 'Bologna', 'opponent': 'Juventus',\n",
    "                                       'home':0},index=[1]))"
   ]
  },
  {
   "cell_type": "markdown",
   "metadata": {},
   "source": [
    "#### Home Win for Juventus "
   ]
  },
  {
   "cell_type": "markdown",
   "metadata": {},
   "source": [
    "### Lazio VS Atalanta"
   ]
  },
  {
   "cell_type": "code",
   "execution_count": 19,
   "metadata": {},
   "outputs": [
    {
     "data": {
      "text/plain": [
       "1    2.284192\n",
       "dtype: float64"
      ]
     },
     "execution_count": 19,
     "metadata": {},
     "output_type": "execute_result"
    }
   ],
   "source": [
    "poisson_model.predict(pd.DataFrame(data={'team': 'Lazio', 'opponent': 'Atalanta',\n",
    "                                       'home':1},index=[1]))"
   ]
  },
  {
   "cell_type": "code",
   "execution_count": 20,
   "metadata": {},
   "outputs": [
    {
     "data": {
      "text/plain": [
       "1    1.695057\n",
       "dtype: float64"
      ]
     },
     "execution_count": 20,
     "metadata": {},
     "output_type": "execute_result"
    }
   ],
   "source": [
    "poisson_model.predict(pd.DataFrame(data={'team': 'Atalanta', 'opponent': 'Lazio',\n",
    "                                       'home':0},index=[1]))"
   ]
  },
  {
   "cell_type": "markdown",
   "metadata": {},
   "source": [
    "#### Draw "
   ]
  },
  {
   "cell_type": "markdown",
   "metadata": {},
   "source": [
    "### Napoli VS Verona"
   ]
  },
  {
   "cell_type": "code",
   "execution_count": 21,
   "metadata": {},
   "outputs": [
    {
     "data": {
      "text/plain": [
       "1    1.601123\n",
       "dtype: float64"
      ]
     },
     "execution_count": 21,
     "metadata": {},
     "output_type": "execute_result"
    }
   ],
   "source": [
    "poisson_model.predict(pd.DataFrame(data={'team': 'Napoli', 'opponent': 'Verona',\n",
    "                                       'home':1},index=[1]))"
   ]
  },
  {
   "cell_type": "code",
   "execution_count": 22,
   "metadata": {},
   "outputs": [
    {
     "data": {
      "text/plain": [
       "1    0.706219\n",
       "dtype: float64"
      ]
     },
     "execution_count": 22,
     "metadata": {},
     "output_type": "execute_result"
    }
   ],
   "source": [
    "poisson_model.predict(pd.DataFrame(data={'team': 'Verona', 'opponent': 'Napoli',\n",
    "                                       'home':0},index=[1]))"
   ]
  },
  {
   "cell_type": "markdown",
   "metadata": {},
   "source": [
    "#### Home win for Napoli"
   ]
  },
  {
   "cell_type": "markdown",
   "metadata": {},
   "source": [
    "### Sassuolo VS Inter"
   ]
  },
  {
   "cell_type": "code",
   "execution_count": 23,
   "metadata": {},
   "outputs": [
    {
     "data": {
      "text/plain": [
       "1    1.411566\n",
       "dtype: float64"
      ]
     },
     "execution_count": 23,
     "metadata": {},
     "output_type": "execute_result"
    }
   ],
   "source": [
    "poisson_model.predict(pd.DataFrame(data={'team': 'Sassuolo', 'opponent': 'Inter',\n",
    "                                       'home':1},index=[1]))"
   ]
  },
  {
   "cell_type": "code",
   "execution_count": 24,
   "metadata": {},
   "outputs": [
    {
     "data": {
      "text/plain": [
       "1    3.541008\n",
       "dtype: float64"
      ]
     },
     "execution_count": 24,
     "metadata": {},
     "output_type": "execute_result"
    }
   ],
   "source": [
    "poisson_model.predict(pd.DataFrame(data={'team': 'Inter', 'opponent': 'Sassuolo',\n",
    "                                       'home':0},index=[1]))"
   ]
  },
  {
   "cell_type": "markdown",
   "metadata": {},
   "source": [
    "#### Away win for Inter"
   ]
  },
  {
   "cell_type": "markdown",
   "metadata": {},
   "source": [
    "### Udinese VS Torino "
   ]
  },
  {
   "cell_type": "code",
   "execution_count": 26,
   "metadata": {},
   "outputs": [
    {
     "data": {
      "text/plain": [
       "1    0.533197\n",
       "dtype: float64"
      ]
     },
     "execution_count": 26,
     "metadata": {},
     "output_type": "execute_result"
    }
   ],
   "source": [
    "poisson_model.predict(pd.DataFrame(data={'team': 'Udinese', 'opponent': 'Torino',\n",
    "                                       'home':1},index=[1]))"
   ]
  },
  {
   "cell_type": "code",
   "execution_count": 27,
   "metadata": {},
   "outputs": [
    {
     "data": {
      "text/plain": [
       "1    0.534684\n",
       "dtype: float64"
      ]
     },
     "execution_count": 27,
     "metadata": {},
     "output_type": "execute_result"
    }
   ],
   "source": [
    "poisson_model.predict(pd.DataFrame(data={'team': 'Torino', 'opponent': 'Udinese',\n",
    "                                       'home':0},index=[1]))"
   ]
  },
  {
   "cell_type": "markdown",
   "metadata": {},
   "source": [
    "#### Draw"
   ]
  },
  {
   "cell_type": "markdown",
   "metadata": {},
   "source": [
    "### Sampdoria VS Roma"
   ]
  },
  {
   "cell_type": "code",
   "execution_count": 28,
   "metadata": {},
   "outputs": [
    {
     "data": {
      "text/plain": [
       "1    0.485667\n",
       "dtype: float64"
      ]
     },
     "execution_count": 28,
     "metadata": {},
     "output_type": "execute_result"
    }
   ],
   "source": [
    "poisson_model.predict(pd.DataFrame(data={'team': 'Sampdoria', 'opponent': 'Roma',\n",
    "                                       'home':1},index=[1]))"
   ]
  },
  {
   "cell_type": "code",
   "execution_count": 29,
   "metadata": {},
   "outputs": [
    {
     "data": {
      "text/plain": [
       "1    1.395063\n",
       "dtype: float64"
      ]
     },
     "execution_count": 29,
     "metadata": {},
     "output_type": "execute_result"
    }
   ],
   "source": [
    "poisson_model.predict(pd.DataFrame(data={'team': 'Roma', 'opponent': 'Sampdoria',\n",
    "                                       'home':0},index=[1]))"
   ]
  },
  {
   "cell_type": "markdown",
   "metadata": {},
   "source": [
    "#### Away win for Roma"
   ]
  },
  {
   "cell_type": "markdown",
   "metadata": {},
   "source": [
    "### Cagliari VS Spal"
   ]
  },
  {
   "cell_type": "code",
   "execution_count": 31,
   "metadata": {},
   "outputs": [
    {
     "data": {
      "text/plain": [
       "1    1.741748\n",
       "dtype: float64"
      ]
     },
     "execution_count": 31,
     "metadata": {},
     "output_type": "execute_result"
    }
   ],
   "source": [
    "poisson_model.predict(pd.DataFrame(data={'team': 'Cagliari', 'opponent': 'Spal',\n",
    "                                       'home':1},index=[1]))"
   ]
  },
  {
   "cell_type": "code",
   "execution_count": 32,
   "metadata": {},
   "outputs": [
    {
     "data": {
      "text/plain": [
       "1    0.465726\n",
       "dtype: float64"
      ]
     },
     "execution_count": 32,
     "metadata": {},
     "output_type": "execute_result"
    }
   ],
   "source": [
    "poisson_model.predict(pd.DataFrame(data={'team': 'Spal', 'opponent': 'Cagliari',\n",
    "                                       'home':1},index=[1]))"
   ]
  },
  {
   "cell_type": "markdown",
   "metadata": {},
   "source": [
    "#### Home win for Cagliari "
   ]
  },
  {
   "cell_type": "markdown",
   "metadata": {},
   "source": [
    "### Parma VS Genoa"
   ]
  },
  {
   "cell_type": "code",
   "execution_count": 33,
   "metadata": {},
   "outputs": [
    {
     "data": {
      "text/plain": [
       "1    2.76497\n",
       "dtype: float64"
      ]
     },
     "execution_count": 33,
     "metadata": {},
     "output_type": "execute_result"
    }
   ],
   "source": [
    "poisson_model.predict(pd.DataFrame(data={'team': 'Parma', 'opponent': 'Genoa',\n",
    "                                       'home':1},index=[1]))"
   ]
  },
  {
   "cell_type": "code",
   "execution_count": 34,
   "metadata": {},
   "outputs": [
    {
     "data": {
      "text/plain": [
       "1    1.128485\n",
       "dtype: float64"
      ]
     },
     "execution_count": 34,
     "metadata": {},
     "output_type": "execute_result"
    }
   ],
   "source": [
    "poisson_model.predict(pd.DataFrame(data={'team': 'Genoa', 'opponent': 'Parma',\n",
    "                                       'home':0},index=[1]))"
   ]
  },
  {
   "cell_type": "markdown",
   "metadata": {},
   "source": [
    "#### Home Win"
   ]
  },
  {
   "cell_type": "markdown",
   "metadata": {},
   "source": [
    "### Milan VS Lecce"
   ]
  },
  {
   "cell_type": "code",
   "execution_count": 35,
   "metadata": {},
   "outputs": [
    {
     "data": {
      "text/plain": [
       "1    1.546419\n",
       "dtype: float64"
      ]
     },
     "execution_count": 35,
     "metadata": {},
     "output_type": "execute_result"
    }
   ],
   "source": [
    "poisson_model.predict(pd.DataFrame(data={'team': 'Milan', 'opponent': 'Lecce',\n",
    "                                       'home':1},index=[1]))"
   ]
  },
  {
   "cell_type": "code",
   "execution_count": 36,
   "metadata": {},
   "outputs": [
    {
     "data": {
      "text/plain": [
       "1    1.259134\n",
       "dtype: float64"
      ]
     },
     "execution_count": 36,
     "metadata": {},
     "output_type": "execute_result"
    }
   ],
   "source": [
    "poisson_model.predict(pd.DataFrame(data={'team': 'Lecce', 'opponent': 'Milan',\n",
    "                                       'home':0},index=[1]))"
   ]
  },
  {
   "cell_type": "markdown",
   "metadata": {},
   "source": [
    "#### Draw "
   ]
  },
  {
   "cell_type": "markdown",
   "metadata": {},
   "source": [
    "### Brescia VS Fiorentina"
   ]
  },
  {
   "cell_type": "code",
   "execution_count": 38,
   "metadata": {},
   "outputs": [
    {
     "data": {
      "text/plain": [
       "1    1.632734\n",
       "dtype: float64"
      ]
     },
     "execution_count": 38,
     "metadata": {},
     "output_type": "execute_result"
    }
   ],
   "source": [
    "poisson_model.predict(pd.DataFrame(data={'team': 'Brescia', 'opponent': 'Fiorentina',\n",
    "                                       'home':1},index=[1]))"
   ]
  },
  {
   "cell_type": "code",
   "execution_count": 39,
   "metadata": {},
   "outputs": [
    {
     "data": {
      "text/plain": [
       "1    1.594903\n",
       "dtype: float64"
      ]
     },
     "execution_count": 39,
     "metadata": {},
     "output_type": "execute_result"
    }
   ],
   "source": [
    "poisson_model.predict(pd.DataFrame(data={'team': 'Fiorentina', 'opponent': 'Brescia',\n",
    "                                       'home':0},index=[1]))"
   ]
  },
  {
   "cell_type": "markdown",
   "metadata": {},
   "source": [
    "#### Draw"
   ]
  },
  {
   "cell_type": "markdown",
   "metadata": {},
   "source": [
    "## Predicted Results "
   ]
  },
  {
   "cell_type": "markdown",
   "metadata": {},
   "source": [
    "Juventus VS Bologna : Home <br>\n",
    "Lazio VS Atalanta : Draw <br>\n",
    "Napoli VS Verona : Home <br>\n",
    "Sassuolo VS Inter : Away <br>\n",
    "Udinese VS Torino : Home <br>\n",
    "Sampdoria VS Roma : Away <br>\n",
    "Cagliari VS Spal : Home <br>\n",
    "Parma VS Genoa : Home <br>\n",
    "Milan VS Lecce : Home <br>\n",
    "Brescia VS Fiorentina : Draw <br> "
   ]
  },
  {
   "cell_type": "code",
   "execution_count": 40,
   "metadata": {},
   "outputs": [],
   "source": [
    "from IPython.display import Image "
   ]
  },
  {
   "cell_type": "markdown",
   "metadata": {},
   "source": [
    "## Actual Results"
   ]
  },
  {
   "cell_type": "markdown",
   "metadata": {},
   "source": [
    "![Saturday Results](Results1.png)"
   ]
  },
  {
   "cell_type": "markdown",
   "metadata": {},
   "source": [
    "![SundayResults](Results2.png)"
   ]
  },
  {
   "cell_type": "code",
   "execution_count": null,
   "metadata": {},
   "outputs": [],
   "source": []
  }
 ],
 "metadata": {
  "kernelspec": {
   "display_name": "Python 3",
   "language": "python",
   "name": "python3"
  },
  "language_info": {
   "codemirror_mode": {
    "name": "ipython",
    "version": 3
   },
   "file_extension": ".py",
   "mimetype": "text/x-python",
   "name": "python",
   "nbconvert_exporter": "python",
   "pygments_lexer": "ipython3",
   "version": "3.7.4"
  }
 },
 "nbformat": 4,
 "nbformat_minor": 2
}
